{
 "cells": [
  {
   "cell_type": "markdown",
   "id": "25d7736c-ba17-4aff-b6bb-66eba20fbf4e",
   "metadata": {},
   "source": [
    "# Lab | List, Dict and Set Comprehension"
   ]
  },
  {
   "cell_type": "markdown",
   "id": "7dd3cbde-675a-4b81-92c3-f728846dbe06",
   "metadata": {},
   "source": [
    "## Exercise: Managing Customer Orders Optimized with Comprehension"
   ]
  },
  {
   "cell_type": "markdown",
   "id": "5d500160-2fb7-4777-b5e4-09d45ebaf328",
   "metadata": {},
   "source": [
    "In the previous exercise, you developed a program to manage customer orders and inventory. Now, let's take it a step further and incorporate comprehension into your code.\n",
    "\n",
    "Follow the steps below to complete the exercise:\n",
    "\n",
    "1. Review your code from the previous exercise and identify areas where you can apply comprehension to simplify and streamline your code. \n",
    "\n",
    "    - *Hint: Apply it to initialize inventory, updating the inventory and printing the updated inventory.*\n",
    "    \n",
    "    - For example, in initializing the inventory, we could have:\n",
    "    \n",
    "        ```python\n",
    "        def initialize_inventory(products):\n",
    "            inventory = {product: int(input(f\"Enter the quantity of {product}s available: \")) for product in products}\n",
    "            return inventory\n",
    "\n",
    "        ```\n",
    "<br>\n",
    "    \n",
    "    \n",
    "2. Modify the function get_customer_orders so it prompts the user to enter the number of customer orders and gathers the product names using a loop and user input. Use comprehension.\n",
    "\n",
    "3. Add a new function to calculate the total price of the customer order. For each product in customer_orders, prompt the user to enter the price of that product. Use comprehension to calculate the total price. Note: assume that the user can only have 1 unit of each product.\n",
    "\n",
    "4. Modify the update_inventory function to remove the product from the inventory if its quantity becomes zero after fulfilling the customer orders. Use comprehension to filter out the products with a quantity of zero from the inventory.\n",
    "\n",
    "5. Print the total price of the customer order.\n",
    "\n",
    "Your code should produce output similar to the following:\n",
    "\n",
    "```python\n",
    "Enter the quantity of t-shirts available:  5\n",
    "Enter the quantity of mugs available:  4\n",
    "Enter the quantity of hats available:  3\n",
    "Enter the quantity of books available:  2\n",
    "Enter the quantity of keychains available:  1\n",
    "Enter the number of customer orders:  2\n",
    "Enter the name of a product that a customer wants to order:  hat\n",
    "Enter the name of a product that a customer wants to order:  keychain\n",
    "\n",
    "Order Statistics:\n",
    "Total Products Ordered: 2\n",
    "Percentage of Unique Products Ordered: 40.0\n",
    "\n",
    "Updated Inventory:\n",
    "t-shirt: 5\n",
    "mug: 4\n",
    "hat: 2\n",
    "book: 2\n",
    "Enter the price of keychain:  5\n",
    "Enter the price of hat:  10\n",
    "Total Price: 15.0\n",
    "\n",
    "```\n"
   ]
  },
  {
   "cell_type": "code",
   "execution_count": 1,
   "id": "79df3df8",
   "metadata": {},
   "outputs": [
    {
     "name": "stdout",
     "output_type": "stream",
     "text": [
      "Enter the quantity of keychains available: 333\n",
      "Enter the quantity of mugs available: 333\n",
      "Enter the quantity of beers available: 333\n",
      "Enter the quantity of wines available: 333\n",
      "Enter the quantity of cereals available: 333\n",
      "Enter the quantity of milks available: 333\n",
      "{'keychain': 333, 'mug': 333, 'beer': 333, 'wine': 333, 'cereal': 333, 'milk': 333}\n",
      "Enter the order quantity for keychain: 0\n",
      "Enter the order quantity for mug: 0\n",
      "Enter the order quantity for beer: 0\n",
      "Enter the order quantity for wine: 3\n",
      "Enter the order quantity for cereal: 0\n",
      "Enter the order quantity for milk: 0\n",
      "{'keychain': 333, 'mug': 333, 'beer': 333, 'wine': 330, 'cereal': 333, 'milk': 333}\n"
     ]
    }
   ],
   "source": [
    "#1\n",
    "products = [\"keychain\", \"mug\", \"beer\", \"wine\", \"cereal\", \"milk\"]\n",
    "\n",
    "def initialize_inventory(products):\n",
    "    inventory = {product: int(input(f\"Enter the quantity of {product}s available: \")) for product in products}\n",
    "    return inventory\n",
    "inventory = initialize_inventory(products)\n",
    "print(inventory)\n",
    "\n",
    "updated_inventory = {product: inventory[product] - int(input(f\"Enter the order quantity for {product}: \")) for product in products}\n",
    "print(updated_inventory)"
   ]
  },
  {
   "cell_type": "code",
   "execution_count": 3,
   "id": "34de751b",
   "metadata": {},
   "outputs": [
    {
     "name": "stdout",
     "output_type": "stream",
     "text": [
      "Enter the numbers of orders: 2\n",
      "Enter product to order: beer\n",
      "Enter product to order: wine\n"
     ]
    }
   ],
   "source": [
    "#2. Modify the function get_customer_orders so it prompts the user to enter the number of customer orders \n",
    "#   and gathers the product names using a loop and user input. Use comprehension.\n",
    "\n",
    "def get_customer_orders():\n",
    "    num_order = int(input(f\"Enter the numbers of orders: \"))\n",
    "    get_customer_order = {input(\"Enter product to order: \") for num in range(0,num_order)}\n",
    "    return get_customer_order\n",
    "\n",
    "customer_orders = get_customer_orders()"
   ]
  },
  {
   "cell_type": "code",
   "execution_count": 4,
   "id": "a17ffdeb",
   "metadata": {},
   "outputs": [
    {
     "name": "stdout",
     "output_type": "stream",
     "text": [
      "Enter price for wine: 2\n",
      "Enter price for beer: 2\n",
      "Total price: 4\n"
     ]
    }
   ],
   "source": [
    "#3. Add a new function to calculate the total price of the customer order. For each product in customer_orders, \n",
    "#   prompt the user to enter the price of that product. Use comprehension to calculate the total price. \n",
    "#.  Note: assume that the user can only have 1 unit of each product.\n",
    "\n",
    "def total_price_order():\n",
    "    prod_price = [int(input(f\"Enter price for {product}: \")) for product in customer_orders]\n",
    "    return print(\"Total price:\", sum(prod_price))\n",
    "\n",
    "total_price_order = total_price_order()"
   ]
  },
  {
   "cell_type": "code",
   "execution_count": 19,
   "id": "dd227658",
   "metadata": {},
   "outputs": [
    {
     "data": {
      "text/plain": [
       "{'keychain': 333, 'mug': 333, 'beer': 333, 'cereal': 333, 'milk': 333}"
      ]
     },
     "execution_count": 19,
     "metadata": {},
     "output_type": "execute_result"
    }
   ],
   "source": [
    "#4. Modify the update_inventory function to remove the product from the inventory if its quantity becomes zero \n",
    "#   after fulfilling the customer orders. \n",
    "#   Use comprehension to filter out the products with a quantity of zero from the inventory.\n",
    "\n",
    "def remove_prod_outofstock(inventory):\n",
    "    update_inventory = {product: stock for product, stock in inventory.items() if stock != 0}\n",
    "    inventory[\"wine\"] = 0\n",
    "    return update_inventory\n",
    "update_inventory"
   ]
  },
  {
   "cell_type": "code",
   "execution_count": 41,
   "id": "6c412998",
   "metadata": {},
   "outputs": [],
   "source": [
    "#5. Print the total price of the customer order.\n",
    "# in #3"
   ]
  },
  {
   "cell_type": "code",
   "execution_count": null,
   "id": "a0eb665c",
   "metadata": {},
   "outputs": [],
   "source": []
  }
 ],
 "metadata": {
  "kernelspec": {
   "display_name": "Python 3 (ipykernel)",
   "language": "python",
   "name": "python3"
  },
  "language_info": {
   "codemirror_mode": {
    "name": "ipython",
    "version": 3
   },
   "file_extension": ".py",
   "mimetype": "text/x-python",
   "name": "python",
   "nbconvert_exporter": "python",
   "pygments_lexer": "ipython3",
   "version": "3.10.9"
  }
 },
 "nbformat": 4,
 "nbformat_minor": 5
}
